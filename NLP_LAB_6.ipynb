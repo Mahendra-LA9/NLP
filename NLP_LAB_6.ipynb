{
  "nbformat": 4,
  "nbformat_minor": 0,
  "metadata": {
    "colab": {
      "provenance": [],
      "authorship_tag": "ABX9TyO2QajBAi7bN33FdmbEMmxr",
      "include_colab_link": true
    },
    "kernelspec": {
      "name": "python3",
      "display_name": "Python 3"
    },
    "language_info": {
      "name": "python"
    }
  },
  "cells": [
    {
      "cell_type": "markdown",
      "metadata": {
        "id": "view-in-github",
        "colab_type": "text"
      },
      "source": [
        "<a href=\"https://colab.research.google.com/github/Mahendra-LA9/NLP/blob/main/NLP_LAB_6.ipynb\" target=\"_parent\"><img src=\"https://colab.research.google.com/assets/colab-badge.svg\" alt=\"Open In Colab\"/></a>"
      ]
    },
    {
      "cell_type": "code",
      "execution_count": 2,
      "metadata": {
        "colab": {
          "base_uri": "https://localhost:8080/"
        },
        "id": "D1hsPnCA1nk1",
        "outputId": "7efdcc63-9a66-4c19-eecb-5047ab20bf6b"
      },
      "outputs": [
        {
          "output_type": "stream",
          "name": "stdout",
          "text": [
            "Epoch 1/5\n",
            "\u001b[1m625/625\u001b[0m \u001b[32m━━━━━━━━━━━━━━━━━━━━\u001b[0m\u001b[37m\u001b[0m \u001b[1m202s\u001b[0m 317ms/step - accuracy: 0.6881 - loss: 0.5606 - val_accuracy: 0.8418 - val_loss: 0.3630\n",
            "Epoch 2/5\n",
            "\u001b[1m625/625\u001b[0m \u001b[32m━━━━━━━━━━━━━━━━━━━━\u001b[0m\u001b[37m\u001b[0m \u001b[1m199s\u001b[0m 318ms/step - accuracy: 0.8893 - loss: 0.2789 - val_accuracy: 0.8640 - val_loss: 0.3300\n",
            "Epoch 3/5\n",
            "\u001b[1m625/625\u001b[0m \u001b[32m━━━━━━━━━━━━━━━━━━━━\u001b[0m\u001b[37m\u001b[0m \u001b[1m204s\u001b[0m 322ms/step - accuracy: 0.9413 - loss: 0.1590 - val_accuracy: 0.8810 - val_loss: 0.3242\n",
            "Epoch 4/5\n",
            "\u001b[1m625/625\u001b[0m \u001b[32m━━━━━━━━━━━━━━━━━━━━\u001b[0m\u001b[37m\u001b[0m \u001b[1m200s\u001b[0m 319ms/step - accuracy: 0.9718 - loss: 0.0873 - val_accuracy: 0.8664 - val_loss: 0.3829\n",
            "Epoch 5/5\n",
            "\u001b[1m625/625\u001b[0m \u001b[32m━━━━━━━━━━━━━━━━━━━━\u001b[0m\u001b[37m\u001b[0m \u001b[1m204s\u001b[0m 323ms/step - accuracy: 0.9874 - loss: 0.0434 - val_accuracy: 0.8644 - val_loss: 0.4398\n",
            "\u001b[1m1/1\u001b[0m \u001b[32m━━━━━━━━━━━━━━━━━━━━\u001b[0m\u001b[37m\u001b[0m \u001b[1m0s\u001b[0m 258ms/step\n",
            "Prediction: [[0.06788246]]\n",
            "Test accuracy: 0.8580399751663208\n",
            "Epoch 1/5\n",
            "\u001b[1m625/625\u001b[0m \u001b[32m━━━━━━━━━━━━━━━━━━━━\u001b[0m\u001b[37m\u001b[0m \u001b[1m252s\u001b[0m 400ms/step - accuracy: 0.7146 - loss: 0.5345 - val_accuracy: 0.8566 - val_loss: 0.3437\n",
            "Epoch 2/5\n",
            "\u001b[1m625/625\u001b[0m \u001b[32m━━━━━━━━━━━━━━━━━━━━\u001b[0m\u001b[37m\u001b[0m \u001b[1m252s\u001b[0m 404ms/step - accuracy: 0.8970 - loss: 0.2614 - val_accuracy: 0.8552 - val_loss: 0.3290\n",
            "Epoch 3/5\n",
            "\u001b[1m625/625\u001b[0m \u001b[32m━━━━━━━━━━━━━━━━━━━━\u001b[0m\u001b[37m\u001b[0m \u001b[1m235s\u001b[0m 376ms/step - accuracy: 0.9303 - loss: 0.1914 - val_accuracy: 0.8452 - val_loss: 0.3595\n",
            "Epoch 4/5\n",
            "\u001b[1m625/625\u001b[0m \u001b[32m━━━━━━━━━━━━━━━━━━━━\u001b[0m\u001b[37m\u001b[0m \u001b[1m261s\u001b[0m 374ms/step - accuracy: 0.9487 - loss: 0.1401 - val_accuracy: 0.8558 - val_loss: 0.3813\n",
            "Epoch 5/5\n",
            "\u001b[1m625/625\u001b[0m \u001b[32m━━━━━━━━━━━━━━━━━━━━\u001b[0m\u001b[37m\u001b[0m \u001b[1m235s\u001b[0m 376ms/step - accuracy: 0.9203 - loss: 0.1995 - val_accuracy: 0.8606 - val_loss: 0.4744\n",
            "LSTM Test accuracy: 0.8551599979400635\n",
            "GRU Accuracy: 0.8580399751663208\n",
            "LSTM Accuracy: 0.8551599979400635\n"
          ]
        }
      ],
      "source": [
        "import numpy as np\n",
        "from tensorflow import keras\n",
        "from tensorflow.keras import layers\n",
        "\n",
        "# (a) Preprocessing of the Data\n",
        "# Load the IMDB dataset\n",
        "(x_train, y_train), (x_test, y_test) = keras.datasets.imdb.load_data(num_words=10000)\n",
        "\n",
        "# Pad sequences to a fixed length\n",
        "maxlen = 200\n",
        "x_train = keras.preprocessing.sequence.pad_sequences(x_train, maxlen=maxlen)\n",
        "x_test = keras.preprocessing.sequence.pad_sequences(x_test, maxlen=maxlen)\n",
        "\n",
        "# (b) Divide data into training and testing data set\n",
        "# Already loaded and preprocessed in the previous step\n",
        "\n",
        "# (c) Build the Gated Recurrent Units (GRU) Model\n",
        "model = keras.Sequential()\n",
        "model.add(layers.Embedding(input_dim=10000, output_dim=128))\n",
        "model.add(layers.GRU(128))\n",
        "model.add(layers.Dense(1, activation='sigmoid'))\n",
        "\n",
        "# (d) Training the GRU Model\n",
        "model.compile(optimizer='adam', loss='binary_crossentropy', metrics=['accuracy'])\n",
        "model.fit(x_train, y_train, epochs=5, batch_size=32, validation_split=0.2)\n",
        "\n",
        "# (e) Text Generation Using the Trained Model\n",
        "# (This part requires a different approach based on the specific task.\n",
        "#  For demonstration, we'll generate a sample prediction)\n",
        "sample_review = x_test[0]\n",
        "prediction = model.predict(np.expand_dims(sample_review, axis=0))\n",
        "print('Prediction:', prediction)\n",
        "\n",
        "# (f) Evaluate Model’s accuracy\n",
        "loss, accuracy = model.evaluate(x_test, y_test, verbose=0)\n",
        "print('Test accuracy:', accuracy)\n",
        "\n",
        "\n",
        "# Compare accuracy of Long Short Term Memory (LSTM) and Gated Recurrent Unit (GRU) models\n",
        "# (This part requires building an LSTM model and comparing the accuracy)\n",
        "lstm_model = keras.Sequential()\n",
        "lstm_model.add(layers.Embedding(input_dim=10000, output_dim=128))\n",
        "lstm_model.add(layers.LSTM(128))\n",
        "lstm_model.add(layers.Dense(1, activation='sigmoid'))\n",
        "lstm_model.compile(optimizer='adam', loss='binary_crossentropy', metrics=['accuracy'])\n",
        "lstm_model.fit(x_train, y_train, epochs=5, batch_size=32, validation_split=0.2)\n",
        "loss_lstm, accuracy_lstm = lstm_model.evaluate(x_test, y_test, verbose=0)\n",
        "print('LSTM Test accuracy:', accuracy_lstm)\n",
        "\n",
        "\n",
        "# Compare the accuracy of the two models\n",
        "print('GRU Accuracy:', accuracy)\n",
        "print('LSTM Accuracy:', accuracy_lstm)\n"
      ]
    }
  ]
}