{
  "nbformat": 4,
  "nbformat_minor": 0,
  "metadata": {
    "colab": {
      "provenance": [],
      "include_colab_link": true
    },
    "kernelspec": {
      "name": "python3",
      "display_name": "Python 3"
    },
    "language_info": {
      "name": "python"
    }
  },
  "cells": [
    {
      "cell_type": "markdown",
      "metadata": {
        "id": "view-in-github",
        "colab_type": "text"
      },
      "source": [
        "<a href=\"https://colab.research.google.com/github/Mahendra-LA9/NLP/blob/main/NLP_LA2.ipynb\" target=\"_parent\"><img src=\"https://colab.research.google.com/assets/colab-badge.svg\" alt=\"Open In Colab\"/></a>"
      ]
    },
    {
      "cell_type": "markdown",
      "source": [
        "**1. Take your own text or take text as “Hello there! How are you doing today? NLP is fascinating.\"  Implement Tokenization in the text.        [CO1]**"
      ],
      "metadata": {
        "id": "gSoPdOQ9pLQW"
      }
    },
    {
      "cell_type": "code",
      "execution_count": 1,
      "metadata": {
        "id": "qyb8aTUSXvHH",
        "colab": {
          "base_uri": "https://localhost:8080/"
        },
        "outputId": "699ecaea-d14b-4359-dc0b-d94065965dde"
      },
      "outputs": [
        {
          "output_type": "stream",
          "name": "stdout",
          "text": [
            "Tokens :  ['Hello', 'there', '!', 'How', 'are', 'you', 'doing', 'today', '?', 'NLP', 'is', 'fascinating', '.']\n"
          ]
        }
      ],
      "source": [
        "import spacy\n",
        "nlp = spacy.load(\"en_core_web_sm\")\n",
        "text = \"Hello there! How are you doing today? NLP is fascinating.\"\n",
        "doc = nlp(text)\n",
        "tokens =[token.text for token in doc]\n",
        "print(\"Tokens : \",tokens)"
      ]
    },
    {
      "cell_type": "markdown",
      "source": [
        "**2. Take your own words or take words = [\"running\", \"ran\", \"runs\", \"easily\", \"fairly\"]. Implement Stemming in the text.      [CO1]**"
      ],
      "metadata": {
        "id": "ux0aH9TRpNcG"
      }
    },
    {
      "cell_type": "code",
      "source": [
        "from nltk.stem.porter import PorterStemmer\n",
        "stemmer = PorterStemmer()\n",
        "words = [\"running\", \"ran\", \"runs\", \"easily\", \"fairly\"]\n",
        "stemmed_words = [stemmer.stem(word) for word in words]\n",
        "print(\"Stemmed Words:\",stemmed_words)\n"
      ],
      "metadata": {
        "id": "RwXXbgnbpPeu",
        "colab": {
          "base_uri": "https://localhost:8080/"
        },
        "outputId": "8cc5e5b3-850e-4754-c01c-0df1429147f4"
      },
      "execution_count": 2,
      "outputs": [
        {
          "output_type": "stream",
          "name": "stdout",
          "text": [
            "Stemmed Words: ['run', 'ran', 'run', 'easili', 'fairli']\n"
          ]
        }
      ]
    },
    {
      "cell_type": "markdown",
      "source": [
        "\n",
        "**3. Implement representation of word on any text or take text as “NLP is fun and interesting.\", \"NLP involves linguistics and computer science.\"                      [CO1]**\n"
      ],
      "metadata": {
        "id": "C-KKTGuIpPyW"
      }
    },
    {
      "cell_type": "code",
      "source": [
        "from sklearn.feature_extraction.text import TfidfVectorizer\n",
        "text = [\"NLP is fun and interesting.\", \"NLP involves linguistics and computer science.\"]\n",
        "vectorizer = TfidfVectorizer()\n",
        "vectorizer.fit(text)\n",
        "vector = vectorizer.transform(text)\n",
        "print(\"Word Representation:\")\n",
        "print(vector.toarray())"
      ],
      "metadata": {
        "colab": {
          "base_uri": "https://localhost:8080/"
        },
        "id": "yS7IO4NLpbHW",
        "outputId": "10d7baeb-2d25-4778-9bfa-fa6e18110f02"
      },
      "execution_count": 3,
      "outputs": [
        {
          "output_type": "stream",
          "name": "stdout",
          "text": [
            "Word Representation:\n",
            "[[0.35520009 0.         0.49922133 0.49922133 0.         0.49922133\n",
            "  0.         0.35520009 0.        ]\n",
            " [0.31779954 0.44665616 0.         0.         0.44665616 0.\n",
            "  0.44665616 0.31779954 0.44665616]]\n"
          ]
        }
      ]
    },
    {
      "cell_type": "markdown",
      "source": [
        "**4. Implement Representation of Sentences on following or take any other sentence\n",
        "\"NLP is an interesting field.\", \"It involves processing natural language.\"                          [CO1]**\n"
      ],
      "metadata": {
        "id": "OT7oyboppb--"
      }
    },
    {
      "cell_type": "code",
      "source": [
        "from sklearn.feature_extraction.text import CountVectorizer, TfidfVectorizer\n",
        "text = [\"NLP is an interesting field.\", \"It involves processing natural language.\"]\n",
        "count_vect = CountVectorizer()\n",
        "count_vector = count_vect.fit_transform(text)\n",
        "print(\"Count Vector Representation:\\n\", count_vector.toarray())\n",
        "tfidf_vect = TfidfVectorizer()\n",
        "tfidf_vector = tfidf_vect.fit_transform(text)\n",
        "print(\"TF-IDF Vector Representation:\\n\", tfidf_vector.toarray())\n",
        "print(\"Feature Names:\", tfidf_vect.get_feature_names_out())\n"
      ],
      "metadata": {
        "colab": {
          "base_uri": "https://localhost:8080/"
        },
        "id": "oMBYZi2Lpkgd",
        "outputId": "ae487988-99af-4337-d144-ff76f8b9f7e9"
      },
      "execution_count": 5,
      "outputs": [
        {
          "output_type": "stream",
          "name": "stdout",
          "text": [
            "Count Vector Representation:\n",
            " [[1 1 1 0 1 0 0 0 1 0]\n",
            " [0 0 0 1 0 1 1 1 0 1]]\n",
            "TF-IDF Vector Representation:\n",
            " [[0.4472136 0.4472136 0.4472136 0.        0.4472136 0.        0.\n",
            "  0.        0.4472136 0.       ]\n",
            " [0.        0.        0.        0.4472136 0.        0.4472136 0.4472136\n",
            "  0.4472136 0.        0.4472136]]\n",
            "Feature Names: ['an' 'field' 'interesting' 'involves' 'is' 'it' 'language' 'natural'\n",
            " 'nlp' 'processing']\n"
          ]
        }
      ]
    }
  ]
}